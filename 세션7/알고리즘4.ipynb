{
 "cells": [
  {
   "cell_type": "code",
   "execution_count": 13,
   "id": "55d07d55",
   "metadata": {
    "scrolled": true
   },
   "outputs": [
    {
     "name": "stdout",
     "output_type": "stream",
     "text": [
      "0\n"
     ]
    }
   ],
   "source": [
    "#11650 좌표 정렬하기\n",
    "\n",
    "#import sys\n",
    "#input=sys.stdin.readline\n",
    "\n",
    "N=int(input())\n",
    "\n",
    "point=[list(map(int,input().split())) for _ in range(N)]\n",
    "\n",
    "point.sort()\n",
    "\n",
    "for i in range(len(point)):\n",
    "    print(point[i][0],point[i][1])"
   ]
  },
  {
   "cell_type": "code",
   "execution_count": null,
   "id": "4fc2a69d",
   "metadata": {},
   "outputs": [],
   "source": [
    "from sys import stdin\n",
    "n = int(stdin.readline())\n",
    "graph = [list(map(int, stdin.readline().split())) for _ in range(n)]\n",
    "\n",
    "def get_block(x,y,n) :\n",
    "  global white, blue\n",
    "  color = graph[x][y]\n",
    "  for i in range(x, x+n):\n",
    "    for j in range(y, y+n) :\n",
    "      if color != graph[i][j] :\n",
    "        get_block(x, y, n//2)\n",
    "        get_block(x+(n//2), y, n//2)\n",
    "        get_block(x, y+(n//2), n//2)\n",
    "        get_block(x+(n//2), y+(n//2), n//2)\n",
    "        return\n",
    "  if color == 0 :\n",
    "    white += 1\n",
    "  else :\n",
    "    blue += 1\n",
    "\n",
    "get_block(0,0,n)\n",
    "print(white)\n",
    "print(blue)"
   ]
  },
  {
   "cell_type": "code",
   "execution_count": 19,
   "id": "e0a3affc",
   "metadata": {},
   "outputs": [
    {
     "name": "stdout",
     "output_type": "stream",
     "text": [
      "8\n",
      "11110000\n",
      "11110000\n",
      "00011100\n",
      "00011100\n",
      "11110000\n",
      "11110000\n",
      "11110011\n",
      "11110011\n"
     ]
    },
    {
     "ename": "IndexError",
     "evalue": "list index out of range",
     "output_type": "error",
     "traceback": [
      "\u001b[1;31m---------------------------------------------------------------------------\u001b[0m",
      "\u001b[1;31mIndexError\u001b[0m                                Traceback (most recent call last)",
      "Cell \u001b[1;32mIn[19], line 34\u001b[0m\n\u001b[0;32m     30\u001b[0m         answer \u001b[38;5;241m+\u001b[39m\u001b[38;5;241m=\u001b[39m \u001b[38;5;124m'\u001b[39m\u001b[38;5;124m1\u001b[39m\u001b[38;5;124m'\u001b[39m\n\u001b[0;32m     31\u001b[0m     \u001b[38;5;28;01mreturn\u001b[39;00m \u001b[38;5;28;01mNone\u001b[39;00m\n\u001b[1;32m---> 34\u001b[0m \u001b[43mcomp\u001b[49m\u001b[43m(\u001b[49m\u001b[38;5;241;43m0\u001b[39;49m\u001b[43m,\u001b[49m\u001b[43m \u001b[49m\u001b[38;5;241;43m0\u001b[39;49m\u001b[43m,\u001b[49m\u001b[43m \u001b[49m\u001b[43mN\u001b[49m\u001b[43m)\u001b[49m\n\u001b[0;32m     35\u001b[0m \u001b[38;5;28mprint\u001b[39m(answer)\n",
      "Cell \u001b[1;32mIn[19], line 15\u001b[0m, in \u001b[0;36mcomp\u001b[1;34m(x, y, N)\u001b[0m\n\u001b[0;32m     13\u001b[0m \u001b[38;5;28;01mfor\u001b[39;00m row \u001b[38;5;129;01min\u001b[39;00m \u001b[38;5;28mrange\u001b[39m(x, x \u001b[38;5;241m+\u001b[39m N):\n\u001b[0;32m     14\u001b[0m     \u001b[38;5;28;01mfor\u001b[39;00m col \u001b[38;5;129;01min\u001b[39;00m \u001b[38;5;28mrange\u001b[39m(y, y \u001b[38;5;241m+\u001b[39m N):\n\u001b[1;32m---> 15\u001b[0m         \u001b[38;5;28;01mif\u001b[39;00m check \u001b[38;5;241m!=\u001b[39m \u001b[43mimage\u001b[49m\u001b[43m[\u001b[49m\u001b[43mrow\u001b[49m\u001b[43m]\u001b[49m\u001b[43m[\u001b[49m\u001b[43mcol\u001b[49m\u001b[43m]\u001b[49m:\n\u001b[0;32m     16\u001b[0m             answer \u001b[38;5;241m+\u001b[39m\u001b[38;5;241m=\u001b[39m \u001b[38;5;124m'\u001b[39m\u001b[38;5;124m(\u001b[39m\u001b[38;5;124m'\u001b[39m\n\u001b[0;32m     17\u001b[0m             \u001b[38;5;66;03m# 1사분면\u001b[39;00m\n",
      "\u001b[1;31mIndexError\u001b[0m: list index out of range"
     ]
    }
   ],
   "source": [
    "#from sys import stdin\n",
    "\n",
    "#input=stdin.readline\n",
    "\n",
    "N = int(input())\n",
    "image = [input().strip() for _ in range(N)]\n",
    "answer = \"\"\n",
    "\n",
    "\n",
    "def comp(x, y, N):\n",
    "    check = image[x][y]\n",
    "    global answer\n",
    "    for row in range(x, x + N):\n",
    "        for col in range(y, y + N):\n",
    "            if check != image[row][col]:\n",
    "                answer += '('\n",
    "                # 1사분면\n",
    "                comp(x, y, N // 2)\n",
    "                # 2사분면\n",
    "                comp(x, y + N // 2 , N // 2)\n",
    "                # 3사분면\n",
    "                comp(x + N // 2, y , N // 2)\n",
    "                # 4사분면\n",
    "                comp(x + N // 2, y + N // 2, N // 2)\n",
    "                answer += ')'\n",
    "                return None\n",
    "    if check == '0':\n",
    "        answer += '0'\n",
    "    else:\n",
    "        answer += '1'\n",
    "    return None\n",
    "\n",
    "\n",
    "comp(0, 0, N)\n",
    "print(answer)"
   ]
  }
 ],
 "metadata": {
  "kernelspec": {
   "display_name": "Python 3 (ipykernel)",
   "language": "python",
   "name": "python3"
  },
  "language_info": {
   "codemirror_mode": {
    "name": "ipython",
    "version": 3
   },
   "file_extension": ".py",
   "mimetype": "text/x-python",
   "name": "python",
   "nbconvert_exporter": "python",
   "pygments_lexer": "ipython3",
   "version": "3.9.16"
  }
 },
 "nbformat": 4,
 "nbformat_minor": 5
}
