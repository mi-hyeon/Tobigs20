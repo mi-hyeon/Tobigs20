{
 "cells": [
  {
   "cell_type": "markdown",
   "id": "cbcb8218",
   "metadata": {},
   "source": [
    "# library와 framework"
   ]
  },
  {
   "cell_type": "markdown",
   "id": "37705e7f",
   "metadata": {},
   "source": [
    "library\n",
    "\n",
    "라이브러리는 사용자가 필요에 의해 호출하여 사용하는 도구로, 함수, 클래스, 모듈 등으로 구성되어 있다.\n",
    "\n",
    "framework\n",
    "\n",
    "프레임워크는 사용자에게 구조와 규칙을 제공하는 기반으로, 모듈, 라이브러리 등을 포함하고 있다. 코드를 짤 때 프레임워크 상에서 코드를 짜게 된다."
   ]
  },
  {
   "cell_type": "markdown",
   "id": "890cd45b",
   "metadata": {},
   "source": [
    "# DL과 ML"
   ]
  },
  {
   "cell_type": "markdown",
   "id": "d584164b",
   "metadata": {},
   "source": [
    "DL\n",
    "\n",
    "딥러닝은 머신러닝보다 좁은 개념으로, 대표적으로 tensorflow와 pythorch를 이용한다. 주로 방대한 양의 데이터를 다룰 때 사용하게 되며, 레이어를 여러 번 쌓아 머신러닝보다 깊게 학습한다.\n",
    "\n",
    "ML\n",
    "\n",
    "머신러닝은 딥러닝을 포함하는 개념으로, 대표적으로 sklearn을 이용한다. 데이터의 양이 많지 않을 때 사용할 수 있으며, 따라서 딥러닝에 비해 보다 가벼운 학습을 진행한다.\n",
    "\n",
    "머신러닝은 지도학습, 비지도학습, 강화학습으로 이루어져 있으며 지도학습은 지정된 결과값이 존재하는 경우, 비지도학습은 정해지지 않은 경우, 강화학습은 리워드가 주어진 경우를 의미한다. 또한 이들은 classification과 regression의 종류로도 구분될 수 있다."
   ]
  },
  {
   "cell_type": "code",
   "execution_count": null,
   "id": "7676c079",
   "metadata": {},
   "outputs": [],
   "source": []
  }
 ],
 "metadata": {
  "kernelspec": {
   "display_name": "Python 3 (ipykernel)",
   "language": "python",
   "name": "python3"
  },
  "language_info": {
   "codemirror_mode": {
    "name": "ipython",
    "version": 3
   },
   "file_extension": ".py",
   "mimetype": "text/x-python",
   "name": "python",
   "nbconvert_exporter": "python",
   "pygments_lexer": "ipython3",
   "version": "3.9.16"
  }
 },
 "nbformat": 4,
 "nbformat_minor": 5
}
