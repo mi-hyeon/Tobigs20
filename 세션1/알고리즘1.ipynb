{
 "cells": [
  {
   "cell_type": "code",
   "execution_count": 26,
   "id": "563e360c",
   "metadata": {},
   "outputs": [
    {
     "name": "stdout",
     "output_type": "stream",
     "text": [
      "5\n",
      "1 6\n",
      "1\n",
      "3 7\n",
      "7\n",
      "6 2\n",
      "6\n",
      "7 100\n",
      "1\n",
      "9 635\n",
      "9\n"
     ]
    }
   ],
   "source": [
    "#1009\n",
    "T=int(input())\n",
    "for _ in range(T):\n",
    "    a,b=map(int,input().split())\n",
    "    a%=10\n",
    "    if a in [1,5,6]:\n",
    "        result=a\n",
    "    elif a==0:\n",
    "        result=10\n",
    "    elif a==4:\n",
    "        if b%2==0:\n",
    "            result=6\n",
    "        else:\n",
    "            result=4\n",
    "    elif a==9:\n",
    "        if b%2==0:\n",
    "            result=1\n",
    "        else:\n",
    "            result=9\n",
    "    else:\n",
    "        b%=4\n",
    "        if b==0:\n",
    "            result=a**4%10\n",
    "        else:\n",
    "            result=a**b%10\n",
    "    print(result)"
   ]
  },
  {
   "cell_type": "code",
   "execution_count": 16,
   "id": "21b38520",
   "metadata": {
    "scrolled": false
   },
   "outputs": [
    {
     "ename": "ValueError",
     "evalue": "invalid literal for int() with base 10: ''",
     "output_type": "error",
     "traceback": [
      "\u001b[1;31m---------------------------------------------------------------------------\u001b[0m",
      "\u001b[1;31mValueError\u001b[0m                                Traceback (most recent call last)",
      "Cell \u001b[1;32mIn[16], line 7\u001b[0m\n\u001b[0;32m      3\u001b[0m \u001b[38;5;28minput\u001b[39m \u001b[38;5;241m=\u001b[39m sys\u001b[38;5;241m.\u001b[39mstdin\u001b[38;5;241m.\u001b[39mreadline\n\u001b[0;32m      5\u001b[0m paper \u001b[38;5;241m=\u001b[39m [[\u001b[38;5;241m0\u001b[39m]\u001b[38;5;241m*\u001b[39m\u001b[38;5;241m101\u001b[39m \u001b[38;5;28;01mfor\u001b[39;00m i \u001b[38;5;129;01min\u001b[39;00m \u001b[38;5;28mrange\u001b[39m(\u001b[38;5;241m101\u001b[39m)]\n\u001b[1;32m----> 7\u001b[0m \u001b[38;5;28;01mfor\u001b[39;00m _ \u001b[38;5;129;01min\u001b[39;00m \u001b[38;5;28mrange\u001b[39m(\u001b[38;5;28;43mint\u001b[39;49m\u001b[43m(\u001b[49m\u001b[38;5;28;43minput\u001b[39;49m\u001b[43m(\u001b[49m\u001b[43m)\u001b[49m\u001b[43m)\u001b[49m):\n\u001b[0;32m      8\u001b[0m     a,b \u001b[38;5;241m=\u001b[39m \u001b[38;5;28mmap\u001b[39m(\u001b[38;5;28mint\u001b[39m,\u001b[38;5;28minput\u001b[39m()\u001b[38;5;241m.\u001b[39msplit())\n\u001b[0;32m      9\u001b[0m     \u001b[38;5;28;01mfor\u001b[39;00m i \u001b[38;5;129;01min\u001b[39;00m \u001b[38;5;28mrange\u001b[39m(\u001b[38;5;241m10\u001b[39m):\n",
      "\u001b[1;31mValueError\u001b[0m: invalid literal for int() with base 10: ''"
     ]
    }
   ],
   "source": [
    "#2563 정답\n",
    "import sys\n",
    "input = sys.stdin.readline\n",
    "\n",
    "paper = [[0]*101 for i in range(101)]\n",
    "\n",
    "for _ in range(int(input())):\n",
    "    a,b = map(int,input().split())\n",
    "    for i in range(10):\n",
    "        for j in range(10):\n",
    "            paper[a+i][b+j] = 1\n",
    "\n",
    "r = 0\n",
    "for i in paper:\n",
    "    r += sum(i)\n",
    "print(r)"
   ]
  },
  {
   "cell_type": "code",
   "execution_count": 35,
   "id": "e223dd0d",
   "metadata": {},
   "outputs": [
    {
     "name": "stdout",
     "output_type": "stream",
     "text": [
      "666999\n",
      "3\n"
     ]
    }
   ],
   "source": [
    "#1475\n",
    "#import sys\n",
    "#input=sys.stdin.readline\n",
    "\n",
    "N=input()\n",
    "count=[0]*10\n",
    "for i in N:\n",
    "    if int(i)==9:\n",
    "        count[6]+=1\n",
    "    else:\n",
    "        count[int(i)]+=1\n",
    "if count[6]//2==0:\n",
    "        count[6]=count[6]//2\n",
    "else:\n",
    "    count[6]=(count[6]+1)//2\n",
    "print(max(count))"
   ]
  },
  {
   "cell_type": "code",
   "execution_count": 43,
   "id": "753a3eef",
   "metadata": {
    "scrolled": true
   },
   "outputs": [
    {
     "name": "stdout",
     "output_type": "stream",
     "text": [
      "4\n",
      "123 1 1\n",
      "356 1 0\n",
      "327 2 0\n",
      "489 0 1\n",
      "2\n"
     ]
    }
   ],
   "source": [
    "#2503\n",
    "from itertools import permutations\n",
    "case = list(permutations([1,2,3,4,5,6,7,8,9], 3))\n",
    "case_x=[]\n",
    "n = int(input())\n",
    "\n",
    "for _ in range(n):\n",
    "    num,s,b=map(str,input().split())\n",
    "\n",
    "    for i in range(len(case)):\n",
    "        s_count=0\n",
    "        b_count=0\n",
    "        for j in range(3):\n",
    "            if int(num[j])==case[i][j]:\n",
    "                s_count+=1\n",
    "            elif int(num[j]) in case[i]:\n",
    "                b_count+=1\n",
    "        if s_count!=int(s) or b_count!=int(b):\n",
    "            case_x.append(case[i])\n",
    "print(len(case)-len(set(case_x)"
   ]
  },
  {
   "cell_type": "code",
   "execution_count": 49,
   "id": "e7057fd8",
   "metadata": {
    "scrolled": true
   },
   "outputs": [
    {
     "name": "stdout",
     "output_type": "stream",
     "text": [
      "2\n",
      "6\n",
      "4\n",
      "4\n",
      "6\n"
     ]
    }
   ],
   "source": [
    "#2751\n",
    "N=int(input())\n",
    "result=[]\n",
    "for _ in range(N):\n",
    "    num=int(input())\n",
    "    result.append(num)\n",
    "result.sort()\n",
    "for i in result:\n",
    "    print(i)    "
   ]
  },
  {
   "cell_type": "code",
   "execution_count": 77,
   "id": "3bc0a172",
   "metadata": {},
   "outputs": [
    {
     "name": "stdout",
     "output_type": "stream",
     "text": [
      "10 5\n",
      "3\n",
      "1 4\n",
      "3 2\n",
      "2 8\n",
      "2 3\n",
      "23\n"
     ]
    }
   ],
   "source": [
    "#2564 경비원\n",
    "x,y=map(int,input().split())\n",
    "N=int(input())\n",
    "direction=[]\n",
    "point=[]\n",
    "dis=0\n",
    "\n",
    "for j in range(N+1):\n",
    "    a,b=map(int,input().split())\n",
    "    direction.append(a)\n",
    "    point.append(b)\n",
    "    \n",
    "for i in range(N):\n",
    "    if direction[-1]==direction[i]:\n",
    "        dis+=abs(point[i]-point[-1])\n",
    "    elif sorted([direction[-1],direction[i]])==[1,2]:\n",
    "        dis=dis+y+min((point[i]+point[-1]),(x-point[i]+x-point[-1]))\n",
    "    elif sorted([direction[-1],direction[i]])==[3,4]:\n",
    "        dis=dis+x+min(point[i]+point[-1],x-point[i]+x-point[-1])\n",
    "    elif direction[-1]==1:\n",
    "        if direction[i]==3:\n",
    "            dis=dis+point[-1]+point[i]\n",
    "        else:\n",
    "            dis=dis+x-point[-1]+point[i]\n",
    "    elif direction[-1]==2:\n",
    "        if direction[i]==3:\n",
    "            dis=dis+point[-1]+y-point[i]\n",
    "        else:\n",
    "            dis=dis+x-point[-1]+y-point[i]\n",
    "    elif direction[-1]==3:\n",
    "        if direction[i]==1:\n",
    "            dis=dis+point[-1]+point[i]\n",
    "        else:\n",
    "            dis=dis+y-point[-1]+point[i]\n",
    "    elif direction[-1]==4:\n",
    "        if direction[i]==1:\n",
    "            dis=dis+point[-1]+x-point[i]\n",
    "        else:\n",
    "            dis=dis+y-point[-1]+x-point[i]\n",
    "\n",
    "print(dis)"
   ]
  },
  {
   "cell_type": "code",
   "execution_count": 9,
   "id": "4f8d74a1",
   "metadata": {},
   "outputs": [
    {
     "name": "stdout",
     "output_type": "stream",
     "text": [
      "werqerqwr\n",
      "17\n"
     ]
    }
   ],
   "source": [
    "#1254 펠린드롬\n",
    "\n",
    "S=input()\n",
    "for i in range(len(S)):\n",
    "    if S[i:]==S[i:][::-1]:\n",
    "        print(len(S)+i)\n",
    "        quit()"
   ]
  },
  {
   "cell_type": "code",
   "execution_count": 6,
   "id": "b0de76a8",
   "metadata": {},
   "outputs": [
    {
     "name": "stdout",
     "output_type": "stream",
     "text": [
      "2 1\n",
      "0\n"
     ]
    }
   ],
   "source": [
    "#1072\n",
    "\n",
    "X,Y=map(int,input().split())\n",
    "win=Y*100//X\n",
    "left=0\n",
    "right=X\n",
    "if win>=99:\n",
    "    print(-1)\n",
    "else:\n",
    "    while left<=right:\n",
    "        mid=(left+right)//2\n",
    "        if ((Y+mid)*100//(X+mid))>(Y*100//X):\n",
    "            right=mid-1\n",
    "            result=mid\n",
    "        else:\n",
    "            left=mid+1\n",
    "            result=mid+1\n",
    "    print(result)"
   ]
  },
  {
   "cell_type": "code",
   "execution_count": null,
   "id": "004be91d",
   "metadata": {},
   "outputs": [],
   "source": [
    "#24479 DFS\n",
    "\n",
    "node,arc,s=map(int,input().split())\n",
    "for i in range(arc):\n",
    "\n",
    "def DFS(s):\n",
    "    "
   ]
  }
 ],
 "metadata": {
  "kernelspec": {
   "display_name": "Python 3 (ipykernel)",
   "language": "python",
   "name": "python3"
  },
  "language_info": {
   "codemirror_mode": {
    "name": "ipython",
    "version": 3
   },
   "file_extension": ".py",
   "mimetype": "text/x-python",
   "name": "python",
   "nbconvert_exporter": "python",
   "pygments_lexer": "ipython3",
   "version": "3.9.16"
  }
 },
 "nbformat": 4,
 "nbformat_minor": 5
}
