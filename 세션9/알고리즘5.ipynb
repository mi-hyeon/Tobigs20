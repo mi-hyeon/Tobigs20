{
 "cells": [
  {
   "cell_type": "code",
   "execution_count": 8,
   "id": "6a256d03",
   "metadata": {},
   "outputs": [
    {
     "name": "stdout",
     "output_type": "stream",
     "text": [
      "10 4200\n",
      "1\n",
      "5\n",
      "10\n",
      "50\n",
      "100\n",
      "500\n",
      "1000\n",
      "5000\n",
      "1000\n",
      "10000\n",
      "0\n",
      "4\n",
      "4\n",
      "4\n",
      "4\n",
      "6\n",
      "6\n",
      "6\n",
      "6\n",
      "6\n",
      "6\n"
     ]
    }
   ],
   "source": [
    "#11047 동전\n",
    "\n",
    "#import sys\n",
    "#input=sys.stdin.readline\n",
    "N,k=map(int,input().split())\n",
    "\n",
    "A=list(int(input()) for _ in range(N))\n",
    "coin=0\n",
    "\n",
    "for i in range(N-1, -1, -1):\n",
    "    if (k//A[i])>=1:\n",
    "        coin=coin+k//A[i]\n",
    "        k=k-A[i]*(k//A[i])\n",
    "\n",
    "print(coin)"
   ]
  },
  {
   "cell_type": "code",
   "execution_count": 81,
   "id": "9e1a90f1",
   "metadata": {},
   "outputs": [
    {
     "name": "stdout",
     "output_type": "stream",
     "text": [
      "3\n",
      "1 3\n",
      "2 4\n",
      "3 5\n",
      "2\n"
     ]
    }
   ],
   "source": [
    "#11000 강의실 배정\n",
    "import heapq\n",
    "\n",
    "N=int(input())\n",
    "ST=[]\n",
    "\n",
    "for _ in range(N):\n",
    "    s,t=map(int,input().split())\n",
    "    ST.append([s,t])\n",
    "    \n",
    "ST.sort()\n",
    "\n",
    "pq=list()\n",
    "heapq.heappush(pq,ST[0][1])\n",
    "\n",
    "for i in range(1,N):\n",
    "    if ST[i][0]>=pq[0]:\n",
    "        heapq.heappop(pq)\n",
    "    heapq.heappush(pq,ST[i][1])\n",
    "    \n",
    "print(len(pq))"
   ]
  },
  {
   "cell_type": "code",
   "execution_count": 46,
   "id": "d20ff996",
   "metadata": {
    "scrolled": true
   },
   "outputs": [
    {
     "name": "stdout",
     "output_type": "stream",
     "text": [
      "1\n",
      "7\n",
      "3 6\n",
      "7 3\n",
      "4 2\n",
      "1 4\n",
      "5 7\n",
      "2 5\n",
      "6 1\n",
      "[4, 2]\n",
      "[6, 1]\n",
      "3\n"
     ]
    }
   ],
   "source": [
    "#1946 신입사원\n",
    "\n",
    "#import sys\n",
    "#input=sys.stdin.readline\n",
    "T=int(input())\n",
    "\n",
    "for t in range(T):\n",
    "    N=int(input())\n",
    "    score=[]\n",
    "    \n",
    "    #점수 입력\n",
    "    for n in range(N):\n",
    "        a,b=map(int,input().split())\n",
    "        score.append([a,b])\n",
    "    \n",
    "    #점수 비교 후 선발 인원 산출\n",
    "    man=1\n",
    "    score.sort()\n",
    "    rank=score[0][1]\n",
    "    for i in range(N):\n",
    "        if score[i][1]<rank:\n",
    "            man+=1\n",
    "            rank=score[i][1]\n",
    "    print(man)"
   ]
  },
  {
   "cell_type": "code",
   "execution_count": 88,
   "id": "ccf4c7c6",
   "metadata": {},
   "outputs": [
    {
     "name": "stdout",
     "output_type": "stream",
     "text": [
      "2 7\n",
      "2 3 2 3 1 2 7\n"
     ]
    }
   ],
   "source": [
    "#1700 멀티탭 스케줄링\n",
    "\n",
    "'''같은 대상이 있으면 코드를 뽑지 않고,\n",
    "같은 대상이 없으면 코드를 뽑아 다른 대상으로 바꾼다.'''\n",
    "\n",
    "N, K=map(int,input().split())\n",
    "change=0\n",
    "\n",
    "multi=[0]*N\n",
    "order=list(map(int,input().split()))\n",
    "\n",
    "enu=[]\n",
    "for i,j in enumerate(order):\n",
    "    enu.append([i,j])\n",
    "\n",
    "for i in range(N):\n",
    "    multi[i]=order[i]\n",
    "    \n",
    "for j in range(2,N):\n",
    "    if order[j] not in multi:\n",
    "        case=[]\n",
    "        for i in multi:\n",
    "            \n",
    "        (enu, key=lambda x : x[1])\n",
    "        case.append\n",
    "            change+=1"
   ]
  },
  {
   "cell_type": "code",
   "execution_count": 89,
   "id": "8f64dd6b",
   "metadata": {},
   "outputs": [
    {
     "data": {
      "text/plain": [
       "[[0, 2], [1, 3], [2, 2], [3, 3], [4, 1], [5, 2], [6, 7]]"
      ]
     },
     "execution_count": 89,
     "metadata": {},
     "output_type": "execute_result"
    }
   ],
   "source": [
    "enu"
   ]
  },
  {
   "cell_type": "code",
   "execution_count": null,
   "id": "f8032e02",
   "metadata": {},
   "outputs": [],
   "source": []
  }
 ],
 "metadata": {
  "kernelspec": {
   "display_name": "Python 3 (ipykernel)",
   "language": "python",
   "name": "python3"
  },
  "language_info": {
   "codemirror_mode": {
    "name": "ipython",
    "version": 3
   },
   "file_extension": ".py",
   "mimetype": "text/x-python",
   "name": "python",
   "nbconvert_exporter": "python",
   "pygments_lexer": "ipython3",
   "version": "3.9.16"
  }
 },
 "nbformat": 4,
 "nbformat_minor": 5
}
